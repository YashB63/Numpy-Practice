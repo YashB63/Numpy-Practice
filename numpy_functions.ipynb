{
 "cells": [
  {
   "cell_type": "code",
   "execution_count": 1,
   "metadata": {},
   "outputs": [],
   "source": [
    "import numpy as np"
   ]
  },
  {
   "cell_type": "code",
   "execution_count": 4,
   "metadata": {},
   "outputs": [
    {
     "data": {
      "text/plain": [
       "0.6138561565667092"
      ]
     },
     "execution_count": 4,
     "metadata": {},
     "output_type": "execute_result"
    }
   ],
   "source": [
    "#koi bhi random value print hogi\n",
    "np.random.random()"
   ]
  },
  {
   "cell_type": "code",
   "execution_count": 10,
   "metadata": {},
   "outputs": [
    {
     "data": {
      "text/plain": [
       "0.8488176972685787"
      ]
     },
     "execution_count": 10,
     "metadata": {},
     "output_type": "execute_result"
    }
   ],
   "source": [
    "#ab maan lo ki aapko random value to chahiye magar \n",
    "#baar baar run karne ke baad bhi same hi value print karana chahte ho\n",
    "#to use krte hai seed function----seed ke andar koi bhi value daal do\n",
    "np.random.seed(15)\n",
    "np.random.random()"
   ]
  },
  {
   "cell_type": "code",
   "execution_count": 15,
   "metadata": {},
   "outputs": [
    {
     "data": {
      "text/plain": [
       "5.5900006746862765"
      ]
     },
     "execution_count": 15,
     "metadata": {},
     "output_type": "execute_result"
    }
   ],
   "source": [
    "#ab maan lo aap chah rhe ho ki ek random value chahiye \n",
    "#lekin vo koi 2 number ke bich ki koi bhi value hai\n",
    "#quite simply ek range ki random value ho \n",
    "np.random.uniform(4,7)"
   ]
  },
  {
   "cell_type": "code",
   "execution_count": 16,
   "metadata": {},
   "outputs": [
    {
     "data": {
      "text/plain": [
       "array([16.68410796, 16.61476924,  7.36358126, 13.99515267, 46.0462351 ,\n",
       "       14.67904896, 36.453137  , 43.55432164, 40.73981515, 12.10642797,\n",
       "       10.02766551,  4.2419068 ,  3.89227096, 11.61107887, 49.93008333,\n",
       "       19.89377496, 38.50449315, 24.72677325, 26.46633468, 47.36184403])"
      ]
     },
     "execution_count": 16,
     "metadata": {},
     "output_type": "execute_result"
    }
   ],
   "source": [
    "# ab maan lo kisi range mey kuch amount of random numbers chahiye\n",
    "np.random.uniform(2,50,20)#2 se le kar 50 range hai and 20 values print hogi"
   ]
  },
  {
   "cell_type": "code",
   "execution_count": 18,
   "metadata": {},
   "outputs": [
    {
     "data": {
      "text/plain": [
       "array([[ 8.36644725,  3.47627041, 32.69549256, 23.40791108, 48.78111851],\n",
       "       [17.82876475, 11.38039151, 34.83421819, 18.85274515, 39.00973344],\n",
       "       [40.00637607, 23.30598028, 14.90375846,  3.14741226, 19.82396316],\n",
       "       [ 6.69108222, 36.92108233, 24.05333242, 26.98383079, 34.85931406]])"
      ]
     },
     "execution_count": 18,
     "metadata": {},
     "output_type": "execute_result"
    }
   ],
   "source": [
    "#ab above generated array ko matrix mey convert karna hai to\n",
    "np.random.uniform(2,50,20).reshape(4,5)"
   ]
  },
  {
   "cell_type": "code",
   "execution_count": 19,
   "metadata": {},
   "outputs": [
    {
     "data": {
      "text/plain": [
       "4"
      ]
     },
     "execution_count": 19,
     "metadata": {},
     "output_type": "execute_result"
    }
   ],
   "source": [
    "#koi range ke bich mey random integer value chahiye to\n",
    "np.random.randint(1,10)"
   ]
  },
  {
   "cell_type": "code",
   "execution_count": 20,
   "metadata": {},
   "outputs": [
    {
     "data": {
      "text/plain": [
       "array([ 5, 39, 46, 21, 17, 18, 45, 34, 35, 36])"
      ]
     },
     "execution_count": 20,
     "metadata": {},
     "output_type": "execute_result"
    }
   ],
   "source": [
    "#kisi range mey multiple integer values chahiye to\n",
    "np.random.randint(2,50,10)"
   ]
  },
  {
   "cell_type": "code",
   "execution_count": 21,
   "metadata": {},
   "outputs": [
    {
     "data": {
      "text/plain": [
       "array([[35, 30, 38, 25, 10],\n",
       "       [41, 12, 44, 13, 45]])"
      ]
     },
     "execution_count": 21,
     "metadata": {},
     "output_type": "execute_result"
    }
   ],
   "source": [
    "#ab upar waali array ko matrix banana hai to\n",
    "np.random.randint(2,50,10).reshape(2,5)"
   ]
  },
  {
   "cell_type": "code",
   "execution_count": 24,
   "metadata": {},
   "outputs": [
    {
     "data": {
      "text/plain": [
       "array([5, 2, 1, 5, 8, 9])"
      ]
     },
     "execution_count": 24,
     "metadata": {},
     "output_type": "execute_result"
    }
   ],
   "source": [
    "a=np.random.randint(1,10,6)\n",
    "a"
   ]
  },
  {
   "cell_type": "code",
   "execution_count": 25,
   "metadata": {},
   "outputs": [
    {
     "data": {
      "text/plain": [
       "9"
      ]
     },
     "execution_count": 25,
     "metadata": {},
     "output_type": "execute_result"
    }
   ],
   "source": [
    "#random number s e bani hu array mey agar maximum element nikaalna ho to\n",
    "np.max(a)"
   ]
  },
  {
   "cell_type": "code",
   "execution_count": 26,
   "metadata": {},
   "outputs": [
    {
     "data": {
      "text/plain": [
       "1"
      ]
     },
     "execution_count": 26,
     "metadata": {},
     "output_type": "execute_result"
    }
   ],
   "source": [
    "#minimum value nikaalni ho to\n",
    "np.min(a)"
   ]
  },
  {
   "cell_type": "code",
   "execution_count": 30,
   "metadata": {},
   "outputs": [
    {
     "data": {
      "text/plain": [
       "5"
      ]
     },
     "execution_count": 30,
     "metadata": {},
     "output_type": "execute_result"
    }
   ],
   "source": [
    "#agar maximum value ka index chahiye to argmax use karte hai\n",
    "np.argmax(a)"
   ]
  },
  {
   "cell_type": "code",
   "execution_count": 31,
   "metadata": {},
   "outputs": [
    {
     "data": {
      "text/plain": [
       "9"
      ]
     },
     "execution_count": 31,
     "metadata": {},
     "output_type": "execute_result"
    }
   ],
   "source": [
    "#maximum value nikaalne ka ek aur tarika\n",
    "a[np.argmax(a)]"
   ]
  },
  {
   "cell_type": "code",
   "execution_count": 32,
   "metadata": {},
   "outputs": [
    {
     "data": {
      "text/plain": [
       "1"
      ]
     },
     "execution_count": 32,
     "metadata": {},
     "output_type": "execute_result"
    }
   ],
   "source": [
    "#minimum value nikaalne ka ek aur tarika\n",
    "a[np.argmin(a)]"
   ]
  },
  {
   "cell_type": "code",
   "execution_count": 33,
   "metadata": {},
   "outputs": [
    {
     "data": {
      "text/plain": [
       "2"
      ]
     },
     "execution_count": 33,
     "metadata": {},
     "output_type": "execute_result"
    }
   ],
   "source": [
    "#minimum value ka index\n",
    "np.argmin(a)"
   ]
  },
  {
   "cell_type": "code",
   "execution_count": 35,
   "metadata": {},
   "outputs": [
    {
     "data": {
      "text/plain": [
       "array([-1, -1, -1, -1, -1, -1])"
      ]
     },
     "execution_count": 35,
     "metadata": {},
     "output_type": "execute_result"
    }
   ],
   "source": [
    "#maan lo given array mey se odd numbers ko hatana hai aur kisi aur number se replace karna hai\n",
    "a[a%2==1]=-1\n",
    "a"
   ]
  },
  {
   "cell_type": "code",
   "execution_count": 36,
   "metadata": {},
   "outputs": [
    {
     "data": {
      "text/plain": [
       "array([ 6,  4, 17, 17, 12,  2, 10])"
      ]
     },
     "execution_count": 36,
     "metadata": {},
     "output_type": "execute_result"
    }
   ],
   "source": [
    "a=np.random.randint(1,20,7)\n",
    "a"
   ]
  },
  {
   "cell_type": "code",
   "execution_count": 37,
   "metadata": {},
   "outputs": [
    {
     "data": {
      "text/plain": [
       "array([ 6,  4, -1, -1, 12,  2, 10])"
      ]
     },
     "execution_count": 37,
     "metadata": {},
     "output_type": "execute_result"
    }
   ],
   "source": [
    "#odd number ke jagah par -1 print ho gya\n",
    "np.where(a%2==1,-1,a)"
   ]
  },
  {
   "cell_type": "code",
   "execution_count": 39,
   "metadata": {},
   "outputs": [
    {
     "data": {
      "text/plain": [
       "array([ 6,  4, -1, -1, 12,  2, 10])"
      ]
     },
     "execution_count": 39,
     "metadata": {},
     "output_type": "execute_result"
    }
   ],
   "source": [
    "#ab new array ko kisi aur variabkle mey store kar lete hai.\n",
    "b = np.where(a%2==1,-1,a)\n",
    "b"
   ]
  },
  {
   "cell_type": "code",
   "execution_count": 40,
   "metadata": {},
   "outputs": [
    {
     "data": {
      "text/plain": [
       "array([ 76,  70,  39,  29,  29,  74, 149, 109,  59, 161,  19, 125, 119,\n",
       "        19,  72,  50,  27, 161, 110, 169,  90,  37, 172,  70, 155,  59,\n",
       "       140, 177,  36, 115,  45,  36, 198,  68, 106,  19,  25,  62, 183,\n",
       "        42])"
      ]
     },
     "execution_count": 40,
     "metadata": {},
     "output_type": "execute_result"
    }
   ],
   "source": [
    "c=np.random.randint(2,200,40)\n",
    "c"
   ]
  },
  {
   "cell_type": "code",
   "execution_count": 43,
   "metadata": {},
   "outputs": [
    {
     "data": {
      "text/plain": [
       "array([ 19,  19,  19,  25,  27,  29,  29,  36,  36,  37,  39,  42,  45,\n",
       "        50,  59,  59,  62,  68,  70,  70,  72,  74,  76,  90, 106, 109,\n",
       "       110, 115, 119, 125, 140, 149, 155, 161, 161, 169, 172, 177, 183,\n",
       "       198])"
      ]
     },
     "execution_count": 43,
     "metadata": {},
     "output_type": "execute_result"
    }
   ],
   "source": [
    "#upar waali array ko ascending mey order mey sort karna ho to\n",
    "c=np.sort(c)\n",
    "c"
   ]
  },
  {
   "cell_type": "code",
   "execution_count": 45,
   "metadata": {},
   "outputs": [
    {
     "data": {
      "text/plain": [
       "192.14999999999998"
      ]
     },
     "execution_count": 45,
     "metadata": {},
     "output_type": "execute_result"
    }
   ],
   "source": [
    "#maanlo pata lagana ho ki jo aapki array hai\n",
    "#kisi particular percent pr konse number se niche numbers rahege\n",
    "\n",
    "#jaise yaha pr ye dekhoge ki 40 percent number 60 se niche ke hai\n",
    "\n",
    "#marks ki array mil gyi ye nikaalna ho ki bhai 99 percentile mtlb kitne number hue to dikh jaayega\n",
    "np.percentile(c,40)\n",
    "np.percentile(c,99)"
   ]
  }
 ],
 "metadata": {
  "kernelspec": {
   "display_name": "Python 3",
   "language": "python",
   "name": "python3"
  },
  "language_info": {
   "codemirror_mode": {
    "name": "ipython",
    "version": 3
   },
   "file_extension": ".py",
   "mimetype": "text/x-python",
   "name": "python",
   "nbconvert_exporter": "python",
   "pygments_lexer": "ipython3",
   "version": "3.11.3"
  },
  "orig_nbformat": 4
 },
 "nbformat": 4,
 "nbformat_minor": 2
}
