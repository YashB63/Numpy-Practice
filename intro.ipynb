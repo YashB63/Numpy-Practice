{
 "cells": [
  {
   "cell_type": "code",
   "execution_count": 2,
   "metadata": {},
   "outputs": [],
   "source": [
    "#NumPy is a low level library written in C(and FORTRAN) for high level mathematical functions. NumPy cleverly\n",
    "#overcomes the problem of running slower algorithms on python by using multidimensional arrays and functions that operate on arrays.\n",
    "\n",
    "#Any algorithm can then be expressed as a function on arrays, allowing the algorithms to be run quickly."
   ]
  },
  {
   "cell_type": "code",
   "execution_count": 3,
   "metadata": {},
   "outputs": [
    {
     "name": "stdout",
     "output_type": "stream",
     "text": [
      "Hello\n"
     ]
    }
   ],
   "source": [
    "#Applications of Numpy\n",
    "\n",
    "#1. A powerful N-dimensional array object(matrix ke problems easily ho jaayege):\n",
    "    #iske applications:\n",
    "        #1. Homogeneous\n",
    "        #2. Only be numbers(Number, Float, Complex)\n",
    "        #3. Fixed item size\n",
    "\n",
    "#2. Sophisticated(broadcasting) functions\n",
    "\n",
    "#3. Tools for integrating C/C++ and Fortran code\n",
    "\n",
    "#4. Useful linear algebra, Fourier transform and random number capabilities"
   ]
  }
 ],
 "metadata": {
  "kernelspec": {
   "display_name": "Python 3",
   "language": "python",
   "name": "python3"
  },
  "language_info": {
   "codemirror_mode": {
    "name": "ipython",
    "version": 3
   },
   "file_extension": ".py",
   "mimetype": "text/x-python",
   "name": "python",
   "nbconvert_exporter": "python",
   "pygments_lexer": "ipython3",
   "version": "3.11.3"
  },
  "orig_nbformat": 4
 },
 "nbformat": 4,
 "nbformat_minor": 2
}
